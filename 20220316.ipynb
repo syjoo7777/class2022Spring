{
  "nbformat": 4,
  "nbformat_minor": 0,
  "metadata": {
    "colab": {
      "name": "20220316.ipynb",
      "provenance": [],
      "collapsed_sections": [],
      "authorship_tag": "ABX9TyMs+h78QN8qJIgX+UKUVIoA",
      "include_colab_link": true
    },
    "kernelspec": {
      "name": "python3",
      "display_name": "Python 3"
    },
    "language_info": {
      "name": "python"
    }
  },
  "cells": [
    {
      "cell_type": "markdown",
      "metadata": {
        "id": "view-in-github",
        "colab_type": "text"
      },
      "source": [
        "<a href=\"https://colab.research.google.com/github/syjoo7777/class2022Spring/blob/main/20220316.ipynb\" target=\"_parent\"><img src=\"https://colab.research.google.com/assets/colab-badge.svg\" alt=\"Open In Colab\"/></a>"
      ]
    },
    {
      "cell_type": "markdown",
      "source": [
        "## variables (int, float, str, list, tuple, dict)"
      ],
      "metadata": {
        "id": "wyR4n1NatbFt"
      }
    },
    {
      "cell_type": "code",
      "execution_count": 4,
      "metadata": {
        "colab": {
          "base_uri": "https://localhost:8080/"
        },
        "id": "mpP1RY_DqnRN",
        "outputId": "debea3a7-443b-4322-998e-b644da82e9ad"
      },
      "outputs": [
        {
          "output_type": "stream",
          "name": "stdout",
          "text": [
            "<class 'int'>\n"
          ]
        }
      ],
      "source": [
        "a = 1; print(type(a)) # int는 정수형태 "
      ]
    },
    {
      "cell_type": "code",
      "source": [
        "a = 1.1; print(type(a))  # float는 실수형태\n",
        "b = 1.0; print(type(b))  # 1.0으로 했을때는, float로 표시됨"
      ],
      "metadata": {
        "colab": {
          "base_uri": "https://localhost:8080/"
        },
        "id": "A7zMmNEnuw-G",
        "outputId": "79653ba3-d610-41dc-f564-2d7b18050630"
      },
      "execution_count": 5,
      "outputs": [
        {
          "output_type": "stream",
          "name": "stdout",
          "text": [
            "<class 'float'>\n",
            "<class 'float'>\n"
          ]
        }
      ]
    },
    {
      "cell_type": "code",
      "source": [
        "a = '123'; print(type(a)); print(a[1]) \n",
        "b = 'hello'; print(type(b)); print(b[1])\n",
        "\n",
        "# 따옴표를 붙여서 str, 문자열을 만들 수 있음. 여기서, str의 indexing은 대괄호 []를 이용"
      ],
      "metadata": {
        "colab": {
          "base_uri": "https://localhost:8080/"
        },
        "id": "tUY6RLvZuxAR",
        "outputId": "d65afb02-f535-43b2-9b83-b83b7dec1678"
      },
      "execution_count": 7,
      "outputs": [
        {
          "output_type": "stream",
          "name": "stdout",
          "text": [
            "<class 'str'>\n",
            "2\n",
            "<class 'str'>\n",
            "e\n"
          ]
        }
      ]
    },
    {
      "cell_type": "code",
      "source": [
        "a = [1, 2, 3, 4]; print(type(a)); print(a[0])\n",
        "\n",
        "# []안에 원소들을 콤마,를 이용해 나열해 list를 만들 수 있음 "
      ],
      "metadata": {
        "colab": {
          "base_uri": "https://localhost:8080/"
        },
        "id": "QJtoE_cMuxCy",
        "outputId": "61e9e6ab-8190-4961-9529-307eabd3a5ae"
      },
      "execution_count": 8,
      "outputs": [
        {
          "output_type": "stream",
          "name": "stdout",
          "text": [
            "<class 'list'>\n",
            "1\n"
          ]
        }
      ]
    },
    {
      "cell_type": "code",
      "source": [
        "a = [1,'a', [3, '4']]; print(type(a)); print(a[0]); print(a[1]); print(a[2]); print(a[2][1])\n",
        "\n",
        "# list안의 원소로 int, float, str, 또 다른 list 등등이 들어올 수 있음 \n",
        "# list안의 list의 원소를 indexing하고 싶을 때는 []뒤에 또 다른 []를 붙여 할 수 잇음 "
      ],
      "metadata": {
        "colab": {
          "base_uri": "https://localhost:8080/"
        },
        "id": "-Qw-JxPDuxE8",
        "outputId": "01793d85-1145-4b6f-ff29-b5dd35555650"
      },
      "execution_count": 9,
      "outputs": [
        {
          "output_type": "stream",
          "name": "stdout",
          "text": [
            "<class 'list'>\n",
            "1\n",
            "a\n",
            "[3, '4']\n",
            "4\n"
          ]
        }
      ]
    },
    {
      "cell_type": "code",
      "source": [
        "a =\t{\"a\": \"apple\", \"b\": \"orange\", \"c\": 2014}\n",
        "print(type(a))\n",
        "print(a[\"a\"])\n",
        "\n",
        "# dict는 {}를 이용해 만들며, :를 이용해 key와 value를 대응시킴\n",
        "# indexing을 할 때는, [key]의 값을 통해 그에 맞는 value를 찾을 수 있음"
      ],
      "metadata": {
        "id": "p_AmgeU9wSZe"
      },
      "execution_count": null,
      "outputs": []
    },
    {
      "cell_type": "markdown",
      "source": [
        "## string & list"
      ],
      "metadata": {
        "id": "pXn_NNYCxmlJ"
      }
    },
    {
      "cell_type": "code",
      "source": [
        "s = 'abcdef'\n",
        "print(s[0], s[5], s[-1], s[-6]) # indexing에서 -n을 붙이면 뒤에서 n번째 자리에 있는 문자를 출력\n",
        "print(s[1:3], s[1:], s[:3], s[:]) \n",
        "# [x:y]를 사용하면 x 이상 y 미만의 자리수에 있는 모든 문자를 출력 \n",
        "# s[1:]는 두번째 자릿수부터 끝까지, s[:3]는 처음부터 4번째 자릿수 미만까지, s[:]는 모든 자리수에 있는 문자열을 출력\n"
      ],
      "metadata": {
        "colab": {
          "base_uri": "https://localhost:8080/"
        },
        "id": "jfzLRJP2xvHK",
        "outputId": "f93db423-82b4-46cf-8b00-697321035f5d"
      },
      "execution_count": 15,
      "outputs": [
        {
          "output_type": "stream",
          "name": "stdout",
          "text": [
            "a f f a\n",
            "bc bcdef abc abcdef\n"
          ]
        }
      ]
    },
    {
      "cell_type": "code",
      "source": [
        "n = [100, 200, 300]\n",
        "print(n[0], n[2], n[-1], n[-3])\n",
        "print(n[1:2], n[1:], n[:2], n[:])\n",
        "\n",
        "# list에서는 :를 이용하면 하나의 원소를 출력하더라도 list의 형태로 출력됨"
      ],
      "metadata": {
        "colab": {
          "base_uri": "https://localhost:8080/"
        },
        "id": "7maXD2AnxvKO",
        "outputId": "79fd18f3-c180-4246-ad45-305d2effcda8"
      },
      "execution_count": 11,
      "outputs": [
        {
          "output_type": "stream",
          "name": "stdout",
          "text": [
            "100 300 300 100\n",
            "[200] [200, 300] [100, 200] [100, 200, 300]\n"
          ]
        }
      ]
    },
    {
      "cell_type": "code",
      "source": [
        "len(s) # len함수는 str일 때는 문자열의 문자 개수를, list일 때는 원소의 개수를 출력"
      ],
      "metadata": {
        "colab": {
          "base_uri": "https://localhost:8080/"
        },
        "id": "dMCXH7PyxvLu",
        "outputId": "6254cc23-51b6-4e19-aba4-3d4932d908e5"
      },
      "execution_count": 12,
      "outputs": [
        {
          "output_type": "execute_result",
          "data": {
            "text/plain": [
              "6"
            ]
          },
          "metadata": {},
          "execution_count": 12
        }
      ]
    },
    {
      "cell_type": "code",
      "source": [
        "s.upper() # .upper()는 앞에 오는 문자열을 모두 대문자화"
      ],
      "metadata": {
        "colab": {
          "base_uri": "https://localhost:8080/",
          "height": 35
        },
        "id": "XCQViTbKxvOF",
        "outputId": "9ae24249-84c5-43d3-be93-66f9365445e0"
      },
      "execution_count": 16,
      "outputs": [
        {
          "output_type": "execute_result",
          "data": {
            "text/plain": [
              "'ABCDEF'"
            ],
            "application/vnd.google.colaboratory.intrinsic+json": {
              "type": "string"
            }
          },
          "metadata": {},
          "execution_count": 16
        }
      ]
    },
    {
      "cell_type": "code",
      "source": [
        "s = ' this is a house built this year.\\n' \t\n",
        "\n",
        "result = s.find('house') \t    # index of first instance of string t inside s (-1 if not found)\n",
        "result"
      ],
      "metadata": {
        "colab": {
          "base_uri": "https://localhost:8080/"
        },
        "id": "whS3eIPKxvRQ",
        "outputId": "61217536-fcc6-469c-e488-44aca8a0512c"
      },
      "execution_count": 17,
      "outputs": [
        {
          "output_type": "execute_result",
          "data": {
            "text/plain": [
              "11"
            ]
          },
          "metadata": {},
          "execution_count": 17
        }
      ]
    },
    {
      "cell_type": "code",
      "source": [
        "s = s.strip()      \t          # a copy of s without leading or trailing whitespace\n",
        "s\n",
        "\n",
        "#.strip()은 앞에 오는 문자열의 whitespace를 지워주는 역할 "
      ],
      "metadata": {
        "colab": {
          "base_uri": "https://localhost:8080/",
          "height": 35
        },
        "id": "0iHckUtcz1Gn",
        "outputId": "ea08f5bb-f51c-4480-9886-b2f73ce5809d"
      },
      "execution_count": 18,
      "outputs": [
        {
          "output_type": "execute_result",
          "data": {
            "text/plain": [
              "'this is a house built this year.'"
            ],
            "application/vnd.google.colaboratory.intrinsic+json": {
              "type": "string"
            }
          },
          "metadata": {},
          "execution_count": 18
        }
      ]
    },
    {
      "cell_type": "code",
      "source": [
        "tokens = s.split(' ')\t        # split s into a list wherever a t is found (whitespace by default)\n",
        "tokens\n",
        "\n",
        "# .split(' ')는 앞에 오는 문자열의 공백을 기준으로 문자열을 나누어주는 역할. 결과는 list형태로 출력"
      ],
      "metadata": {
        "colab": {
          "base_uri": "https://localhost:8080/"
        },
        "id": "1CXBkwAi0Mjp",
        "outputId": "78f14322-5f11-453f-a3c7-1a6724e2bd9c"
      },
      "execution_count": 19,
      "outputs": [
        {
          "output_type": "execute_result",
          "data": {
            "text/plain": [
              "['this', 'is', 'a', 'house', 'built', 'this', 'year.']"
            ]
          },
          "metadata": {},
          "execution_count": 19
        }
      ]
    },
    {
      "cell_type": "code",
      "source": [
        "s = ' '.join(tokens)\t        # combine the words of the text into a string using s as the glue\n",
        "s\n",
        "\n",
        "# .join()는 앞의 문자열을 넣어 괄호 안의 list 원소들을 합쳐주는 역할 "
      ],
      "metadata": {
        "colab": {
          "base_uri": "https://localhost:8080/",
          "height": 35
        },
        "id": "TwSpeGAy0ej7",
        "outputId": "4fecd6a2-c83f-4089-b85f-0474390c5a01"
      },
      "execution_count": 20,
      "outputs": [
        {
          "output_type": "execute_result",
          "data": {
            "text/plain": [
              "'this is a house built this year.'"
            ],
            "application/vnd.google.colaboratory.intrinsic+json": {
              "type": "string"
            }
          },
          "metadata": {},
          "execution_count": 20
        }
      ]
    },
    {
      "cell_type": "code",
      "source": [
        "s = s.replace('this', 'that') # replace instances of t with u inside s\n",
        "s\n",
        "\n",
        "# .replace(a,b)는 앞에 오는 문자열의 a에 해당되는 부분을 b로 바꾸어줌"
      ],
      "metadata": {
        "colab": {
          "base_uri": "https://localhost:8080/",
          "height": 35
        },
        "id": "U1_-WJZq0vfU",
        "outputId": "dbaf4e01-b78d-4ed7-d571-efb58f3df641"
      },
      "execution_count": 21,
      "outputs": [
        {
          "output_type": "execute_result",
          "data": {
            "text/plain": [
              "'that is a house built that year.'"
            ],
            "application/vnd.google.colaboratory.intrinsic+json": {
              "type": "string"
            }
          },
          "metadata": {},
          "execution_count": 21
        }
      ]
    },
    {
      "cell_type": "markdown",
      "source": [
        "## syntax (for, if) ##"
      ],
      "metadata": {
        "id": "GJs029b3t5yo"
      }
    },
    {
      "cell_type": "code",
      "source": [
        "a = [1, 2, 3, 4]\n",
        "for i in a:\n",
        "    print(i)\n",
        "\n",
        "# for 반복문을 이용해 보다 편하게 많은 수의 원소들을 활용할 수 있음"
      ],
      "metadata": {
        "colab": {
          "base_uri": "https://localhost:8080/"
        },
        "id": "ARFtFTZUxbMl",
        "outputId": "2cf82b5c-e5b0-44e6-9dee-34361bd0082a"
      },
      "execution_count": 24,
      "outputs": [
        {
          "output_type": "stream",
          "name": "stdout",
          "text": [
            "1\n",
            "2\n",
            "3\n",
            "4\n"
          ]
        }
      ]
    },
    {
      "cell_type": "code",
      "source": [
        "a = [1, 2, 3, 4]\n",
        "for i in range(len(a)):\n",
        "    print(a[i])\n",
        "\n",
        "# 위의 for 반복문을 이와 같이 쓸 수도 있음"
      ],
      "metadata": {
        "colab": {
          "base_uri": "https://localhost:8080/"
        },
        "id": "w0GMBjjcxbU5",
        "outputId": "0946648d-8fc9-4eca-ba42-b411d4df8625"
      },
      "execution_count": 23,
      "outputs": [
        {
          "output_type": "stream",
          "name": "stdout",
          "text": [
            "1\n",
            "2\n",
            "3\n",
            "4\n"
          ]
        }
      ]
    },
    {
      "cell_type": "code",
      "source": [
        "a = 0\n",
        "if a == 0:\n",
        "    print(a)\n",
        "else:\n",
        "    print(a+1)\n",
        "\n",
        "# if 조건문은 if 조건 : 참일때 출력문 , else : 거짓일때 출력문의 형태로 표현됨"
      ],
      "metadata": {
        "colab": {
          "base_uri": "https://localhost:8080/"
        },
        "id": "f53up8WrxbXR",
        "outputId": "0ade6e95-1afb-411b-85da-169b37f1879d"
      },
      "execution_count": 22,
      "outputs": [
        {
          "output_type": "stream",
          "name": "stdout",
          "text": [
            "0\n"
          ]
        }
      ]
    },
    {
      "cell_type": "code",
      "source": [
        "for i in range(1, 3):\n",
        "    for j in range(3, 5):\n",
        "        print(i*j)\n",
        "\n",
        "# for 반복문 안에 다른 for 반복문을 넣어 반복을 중첩할 수 있음 \n",
        "# i=1일 때, j가 3,4가 오므로, i*j는 3 4가 출력되고, i=2일 때, 다시 j가 3,4가 오므로 i*j는 6 8이 출력됨"
      ],
      "metadata": {
        "colab": {
          "base_uri": "https://localhost:8080/"
        },
        "id": "epnDVrFIxbZT",
        "outputId": "bc8b979e-f5c9-4a43-b4eb-a23dc88a34a7"
      },
      "execution_count": 25,
      "outputs": [
        {
          "output_type": "stream",
          "name": "stdout",
          "text": [
            "3\n",
            "4\n",
            "6\n",
            "8\n"
          ]
        }
      ]
    },
    {
      "cell_type": "code",
      "source": [
        "for i in range(1, 3):\n",
        "    for j in range(3, 5):\n",
        "        if j >=4:\n",
        "            print(i*j)\n",
        "\n",
        "# for 반복문과 if 조건문을 다양하게 활용할 수 있음 "
      ],
      "metadata": {
        "colab": {
          "base_uri": "https://localhost:8080/"
        },
        "id": "QsRYrCVyxbc0",
        "outputId": "7a96153c-2fac-4a36-cf1f-b662a951e29c"
      },
      "execution_count": 26,
      "outputs": [
        {
          "output_type": "stream",
          "name": "stdout",
          "text": [
            "4\n",
            "8\n"
          ]
        }
      ]
    },
    {
      "cell_type": "code",
      "source": [
        "a = [1, 2, 3, 4]\n",
        "b = [i for i in a if i >=2]\n",
        "b\n",
        "\n",
        "# list안의 반복문과 조건문의 사용에서는 []안에 for과 if를 보다 간략한 형태로 사용할 수도 있음"
      ],
      "metadata": {
        "colab": {
          "base_uri": "https://localhost:8080/"
        },
        "id": "oHcyT8gtxbnx",
        "outputId": "9a30f99c-8a55-49aa-ba04-148e15ff8b8b"
      },
      "execution_count": 27,
      "outputs": [
        {
          "output_type": "execute_result",
          "data": {
            "text/plain": [
              "[2, 3, 4]"
            ]
          },
          "metadata": {},
          "execution_count": 27
        }
      ]
    },
    {
      "cell_type": "code",
      "source": [
        "a = ['red', 'green', 'blue', 'purple']\n",
        "b = [1, 2, 3, 4]\n",
        "c = {a[i]:b[i] for i in range(4)}\n",
        "c\n",
        "\n",
        "# dict를 만들 때도 {}안에 for 반복문을 사용해 간략한 형태를 이용할 수 있음"
      ],
      "metadata": {
        "id": "zcq1-C5Sxbp4"
      },
      "execution_count": null,
      "outputs": []
    },
    {
      "cell_type": "markdown",
      "source": [
        "## function "
      ],
      "metadata": {
        "id": "ibWTD8z_uI-p"
      }
    },
    {
      "cell_type": "code",
      "source": [
        "def add(a,b):\n",
        "  return a+b\n",
        "\n",
        "def subtract(a,b):\n",
        "  return a-b\n",
        "\n",
        "def multiply(a,b):\n",
        "  return a*b\n",
        "\n",
        "def divide(a,b):\n",
        "  return a/b\n",
        "\n",
        "# function을 만들때는 def 함수이름(인자): 뒤에 만들고자 하는 함수의 계산식을 쓴 후, 결과값을 return을 통해 출력함\n",
        "# 여기서, 함수의 이름과 인자는 사용자가 지정할 수 있음 \n"
      ],
      "metadata": {
        "id": "R3sr7Owe34Y4"
      },
      "execution_count": 1,
      "outputs": []
    },
    {
      "cell_type": "code",
      "source": [
        "c = add(1,2); print(c)\n",
        "c = subtract(1,2); print(c)\n",
        "c = multiply(1,2); print(c)\n",
        "c = divide(1,2); print(c)"
      ],
      "metadata": {
        "colab": {
          "base_uri": "https://localhost:8080/"
        },
        "id": "pVRjGe6a7LIK",
        "outputId": "40b3d077-7c45-4b2b-fe9e-80b385b94e78"
      },
      "execution_count": 2,
      "outputs": [
        {
          "output_type": "stream",
          "name": "stdout",
          "text": [
            "3\n",
            "-1\n",
            "2\n",
            "0.5\n"
          ]
        }
      ]
    },
    {
      "cell_type": "code",
      "source": [
        "def add1(a,b):\n",
        "  c=a+b\n",
        "  return c\n",
        "\n",
        "print(add(1,2))\n",
        "print(add1(1,2))\n",
        "\n",
        "# 위의 add 함수를 add1처럼 만들수도 있음"
      ],
      "metadata": {
        "colab": {
          "base_uri": "https://localhost:8080/"
        },
        "id": "ol9dUT0R34cT",
        "outputId": "c0a76ebc-d20a-430b-ed39-c5f273c7d042"
      },
      "execution_count": 3,
      "outputs": [
        {
          "output_type": "stream",
          "name": "stdout",
          "text": [
            "3\n",
            "3\n"
          ]
        }
      ]
    },
    {
      "cell_type": "markdown",
      "source": [
        "## import, packages"
      ],
      "metadata": {
        "id": "l4Y7KtenuK6F"
      }
    },
    {
      "cell_type": "code",
      "source": [
        "import numpy as np\n",
        "\n",
        "# import로 python에 있는 다양한 라이브러리를 workspace에 불러올 수 있음 \n",
        "\n",
        "# numpy는 벡터 및 행렬 연산에 있어 편리한 기능을 제공함\n",
        "# 항상 numpy를 쓰기 힘들 수 있으므로, 뒤에 as 로 더 짧은 np로 라이브러리를 사용할 수 있음"
      ],
      "metadata": {
        "id": "qmvHWvWe7fdy"
      },
      "execution_count": 6,
      "outputs": []
    },
    {
      "cell_type": "code",
      "source": [
        "n = np.random.randn(100)\n",
        "\n",
        "# np.random.randn() 함수는 기대값이 0이고, 표준편차가 1인 정규 분포를 따르는 난수를 발생시키는 함수"
      ],
      "metadata": {
        "id": "Wc4JT0Gl7fpp"
      },
      "execution_count": 7,
      "outputs": []
    },
    {
      "cell_type": "code",
      "source": [
        "import matplotlib\n",
        "\n",
        "# matplotlib는 간편하게 그래프를 만들게 도와주는 라이브러리"
      ],
      "metadata": {
        "id": "wFON6vIs7fwa"
      },
      "execution_count": 8,
      "outputs": []
    },
    {
      "cell_type": "code",
      "source": [
        "matplotlib.pyplot.hist(n)\n",
        "\n",
        "# n에 저장되어 있는 100개의 난수들을 histogram으로 그려줌"
      ],
      "metadata": {
        "colab": {
          "base_uri": "https://localhost:8080/",
          "height": 358
        },
        "id": "0puvsFZa9VP7",
        "outputId": "9516716c-d4f2-4930-9e37-22cf4c2bfefd"
      },
      "execution_count": 9,
      "outputs": [
        {
          "output_type": "execute_result",
          "data": {
            "text/plain": [
              "(array([ 2.,  1.,  7.,  7., 21., 24., 20., 11.,  5.,  2.]),\n",
              " array([-2.96237191, -2.41281686, -1.8632618 , -1.31370675, -0.76415169,\n",
              "        -0.21459664,  0.33495842,  0.88451347,  1.43406853,  1.98362358,\n",
              "         2.53317864]),\n",
              " <a list of 10 Patch objects>)"
            ]
          },
          "metadata": {},
          "execution_count": 9
        },
        {
          "output_type": "display_data",
          "data": {
            "text/plain": [
              "<Figure size 432x288 with 1 Axes>"
            ],
            "image/png": "[encoded data removed]"
          },
          "metadata": {
            "needs_background": "light"
          }
        }
      ]
    },
    {
      "cell_type": "code",
      "source": [
        "import matplotlib.pyplot as plt\n",
        "plt.hist(n)\n",
        "\n",
        "# 아예 matplotlib.pyplot을 통째로 plt라는 간단한 명령어로 불러올 수 있음"
      ],
      "metadata": {
        "colab": {
          "base_uri": "https://localhost:8080/",
          "height": 358
        },
        "id": "YMnfqLsT9kHl",
        "outputId": "4fe44e8e-5d62-412c-dbb5-b5ec29ac89e9"
      },
      "execution_count": 10,
      "outputs": [
        {
          "output_type": "execute_result",
          "data": {
            "text/plain": [
              "(array([ 2.,  1.,  7.,  7., 21., 24., 20., 11.,  5.,  2.]),\n",
              " array([-2.96237191, -2.41281686, -1.8632618 , -1.31370675, -0.76415169,\n",
              "        -0.21459664,  0.33495842,  0.88451347,  1.43406853,  1.98362358,\n",
              "         2.53317864]),\n",
              " <a list of 10 Patch objects>)"
            ]
          },
          "metadata": {},
          "execution_count": 10
        },
        {
          "output_type": "display_data",
          "data": {
            "text/plain": [
              "<Figure size 432x288 with 1 Axes>"
            ],
            "image/png": "[encoded data removed]"
          },
          "metadata": {
            "needs_background": "light"
          }
        }
      ]
    },
    {
      "cell_type": "code",
      "source": [
        "from matplotlib import pyplot\n",
        "pyplot.hist(n)\n",
        "\n",
        "# from import를 쓰면 import as 처럼 축약해서 불러올 수 있음"
      ],
      "metadata": {
        "colab": {
          "base_uri": "https://localhost:8080/",
          "height": 358
        },
        "id": "t1ZrnBKT97MW",
        "outputId": "c823cc93-681f-4395-f3ee-ea54c0b0b980"
      },
      "execution_count": 11,
      "outputs": [
        {
          "output_type": "execute_result",
          "data": {
            "text/plain": [
              "(array([ 2.,  1.,  7.,  7., 21., 24., 20., 11.,  5.,  2.]),\n",
              " array([-2.96237191, -2.41281686, -1.8632618 , -1.31370675, -0.76415169,\n",
              "        -0.21459664,  0.33495842,  0.88451347,  1.43406853,  1.98362358,\n",
              "         2.53317864]),\n",
              " <a list of 10 Patch objects>)"
            ]
          },
          "metadata": {},
          "execution_count": 11
        },
        {
          "output_type": "display_data",
          "data": {
            "text/plain": [
              "<Figure size 432x288 with 1 Axes>"
            ],
            "image/png": "[encoded data removed]"
          },
          "metadata": {
            "needs_background": "light"
          }
        }
      ]
    },
    {
      "cell_type": "code",
      "source": [
        "import numpy \n",
        "import pandas\n",
        "import matplotlib\n",
        "import seaborn\n",
        "import sklearn\n",
        "import requests\n",
        "import urllib3\n",
        "import nltk\n",
        "import PIL\n",
        "import pytest\n",
        "import librosa\n",
        "\n",
        "# 많이 쓰이는 python packages"
      ],
      "metadata": {
        "id": "3MlknWj0-WAO"
      },
      "execution_count": null,
      "outputs": []
    },
    {
      "cell_type": "markdown",
      "source": [
        "## numpy, matplotlib ##"
      ],
      "metadata": {
        "id": "26V3WbahuZEW"
      }
    },
    {
      "cell_type": "code",
      "source": [
        "x = np.array([1,2,3]) # 행렬을 만드는 용도\n",
        "print(x)\n",
        "print(type(x)) \n",
        "print(x.shape)\n",
        "\n"
      ],
      "metadata": {
        "colab": {
          "base_uri": "https://localhost:8080/"
        },
        "id": "R4L4hW9FtawI",
        "outputId": "906e25f8-72a1-44e2-81f5-4b7216fc32c4"
      },
      "execution_count": 12,
      "outputs": [
        {
          "output_type": "stream",
          "name": "stdout",
          "text": [
            "[1 2 3]\n",
            "<class 'numpy.ndarray'>\n",
            "(3,)\n"
          ]
        }
      ]
    },
    {
      "cell_type": "code",
      "source": [
        "x = np.arange(0,10,2) # 0이상 10미만의 실수를 2 간격으로 행렬로 만듬\n",
        "print(x)\n",
        "print(type(x))\n",
        "print(x.shape)"
      ],
      "metadata": {
        "colab": {
          "base_uri": "https://localhost:8080/"
        },
        "id": "B5_KbXQcrK95",
        "outputId": "5ad257b3-18b2-4e28-d866-7b6d615f64f4"
      },
      "execution_count": 13,
      "outputs": [
        {
          "output_type": "stream",
          "name": "stdout",
          "text": [
            "[0 2 4 6 8]\n",
            "<class 'numpy.ndarray'>\n",
            "(5,)\n"
          ]
        }
      ]
    },
    {
      "cell_type": "code",
      "source": [
        "x = np.linspace(0,10,6) # 0이상 10미만의 실수를 같은 간격으로 나누어 6개의 원소를 가지는 행렬로 만듬\n",
        "print(x)\n",
        "print(type(x))\n",
        "print(x.shape)"
      ],
      "metadata": {
        "colab": {
          "base_uri": "https://localhost:8080/"
        },
        "id": "RgSLPwbWCSq9",
        "outputId": "e8fdb3d9-6555-4893-b24e-ba3e267a4639"
      },
      "execution_count": 14,
      "outputs": [
        {
          "output_type": "stream",
          "name": "stdout",
          "text": [
            "[ 0.  2.  4.  6.  8. 10.]\n",
            "<class 'numpy.ndarray'>\n",
            "(6,)\n"
          ]
        }
      ]
    },
    {
      "cell_type": "code",
      "source": [
        "x = np.array([[1,2,3], [4,5,6]]) # 2차원의 행렬을 만들 수도 있음\n",
        "print(x)\n",
        "print(type(x))\n",
        "print(x.shape)"
      ],
      "metadata": {
        "colab": {
          "base_uri": "https://localhost:8080/"
        },
        "id": "qMBX5w2UCnMd",
        "outputId": "f1da321f-5872-4c42-bef5-053f2f1323f6"
      },
      "execution_count": 16,
      "outputs": [
        {
          "output_type": "stream",
          "name": "stdout",
          "text": [
            "[[1 2 3]\n",
            " [4 5 6]]\n",
            "<class 'numpy.ndarray'>\n",
            "(2, 3)\n"
          ]
        }
      ]
    },
    {
      "cell_type": "code",
      "source": [
        "x = np.array([[[1,2,3], [4,5,6]], [[7,8,9], [10,11,12]]]) # 다차원의 행렬도 가능\n",
        "print(x)\n",
        "print(type(x))\n",
        "print(x.shape) "
      ],
      "metadata": {
        "colab": {
          "base_uri": "https://localhost:8080/"
        },
        "id": "9wY4Mo-sCz7W",
        "outputId": "0568c9ff-c1ea-4f0e-fee9-ad92bdbfce8e"
      },
      "execution_count": 17,
      "outputs": [
        {
          "output_type": "stream",
          "name": "stdout",
          "text": [
            "[[[ 1  2  3]\n",
            "  [ 4  5  6]]\n",
            "\n",
            " [[ 7  8  9]\n",
            "  [10 11 12]]]\n",
            "<class 'numpy.ndarray'>\n",
            "(2, 2, 3)\n"
          ]
        }
      ]
    },
    {
      "cell_type": "code",
      "source": [
        "x = np.ones([2, 2, 3]) # [2,2,3]의 shape을 가진 1로만 이루어진 행렬을 생성\n",
        "print(x)\n",
        "print(type(x))\n",
        "print(x.shape)"
      ],
      "metadata": {
        "colab": {
          "base_uri": "https://localhost:8080/"
        },
        "id": "oRff4IgSC2aY",
        "outputId": "0116534e-dd8d-4505-bcd1-51a40bdf04b7"
      },
      "execution_count": 18,
      "outputs": [
        {
          "output_type": "stream",
          "name": "stdout",
          "text": [
            "[[[1. 1. 1.]\n",
            "  [1. 1. 1.]]\n",
            "\n",
            " [[1. 1. 1.]\n",
            "  [1. 1. 1.]]]\n",
            "<class 'numpy.ndarray'>\n",
            "(2, 2, 3)\n"
          ]
        }
      ]
    },
    {
      "cell_type": "code",
      "source": [
        "x = np.zeros([2, 2, 3]) # [2,2,3]의 shape을 가진 0로만 이루어진 행렬을 생성\n",
        "print(x)\n",
        "print(type(x))\n",
        "print(x.shape)\n",
        "x.reshape(3,2,2)"
      ],
      "metadata": {
        "colab": {
          "base_uri": "https://localhost:8080/"
        },
        "id": "oR0JP2_9Cz-H",
        "outputId": "ab69b200-a103-4ca0-90d3-1d514410142b"
      },
      "execution_count": 19,
      "outputs": [
        {
          "output_type": "stream",
          "name": "stdout",
          "text": [
            "[[[0. 0. 0.]\n",
            "  [0. 0. 0.]]\n",
            "\n",
            " [[0. 0. 0.]\n",
            "  [0. 0. 0.]]]\n",
            "<class 'numpy.ndarray'>\n",
            "(2, 2, 3)\n"
          ]
        },
        {
          "output_type": "execute_result",
          "data": {
            "text/plain": [
              "array([[[0., 0.],\n",
              "        [0., 0.]],\n",
              "\n",
              "       [[0., 0.],\n",
              "        [0., 0.]],\n",
              "\n",
              "       [[0., 0.],\n",
              "        [0., 0.]]])"
            ]
          },
          "metadata": {},
          "execution_count": 19
        }
      ]
    },
    {
      "cell_type": "markdown",
      "source": [
        "### 난수 생성"
      ],
      "metadata": {
        "id": "bRIaR8PeDvr-"
      }
    },
    {
      "cell_type": "code",
      "source": [
        "np.random.normal(0, 1, [2,3,4]) # 0을 평균으로, 1을 표준편차로 가지는 난수를 [2,3,4] shape의 행렬로 만듬"
      ],
      "metadata": {
        "colab": {
          "base_uri": "https://localhost:8080/"
        },
        "id": "_2nZ4Xh1C0Bs",
        "outputId": "f5a6d66b-df1a-4add-8997-d139cb2ed7b8"
      },
      "execution_count": 20,
      "outputs": [
        {
          "output_type": "execute_result",
          "data": {
            "text/plain": [
              "array([[[ 0.92811169, -1.09783951,  0.37040398,  0.21474489],\n",
              "        [-0.48419443, -0.92454738, -0.44750397,  1.95115979],\n",
              "        [ 1.67367273,  0.25398921, -0.26735985, -1.78737955]],\n",
              "\n",
              "       [[ 0.82908939,  0.49771092, -1.0340757 , -0.54339043],\n",
              "        [-0.12244512, -1.9094521 , -1.78827861,  0.16846953],\n",
              "        [-1.3231448 , -0.6255525 ,  0.26855777,  1.4737377 ]]])"
            ]
          },
          "metadata": {},
          "execution_count": 20
        }
      ]
    },
    {
      "cell_type": "code",
      "source": [
        "x = np.random.normal(0, 1, 100)\n",
        "print(x)\n",
        "plt.hist(x, bins=10) # bins는 막대의 개수를 조정하는 인자"
      ],
      "metadata": {
        "colab": {
          "base_uri": "https://localhost:8080/",
          "height": 664
        },
        "id": "B6NrXFl1DeI3",
        "outputId": "4aa2d004-f69a-417b-99f7-185af425558a"
      },
      "execution_count": 21,
      "outputs": [
        {
          "output_type": "stream",
          "name": "stdout",
          "text": [
            "[ 0.25005219 -0.58377414  0.78009538  1.80570072  0.11691628  0.9799043\n",
            " -0.27252379 -1.40469802  0.20322823  1.1645463  -0.45245543 -0.60889569\n",
            " -1.35944672  0.27990362 -0.81798417  0.00891309  0.08450339  0.193157\n",
            " -0.96234358  1.22683198 -0.61852335 -1.01226908 -1.1373039   0.22642127\n",
            "  0.23635601  0.20337088  0.7874179  -0.34764942  0.14217973  1.01526845\n",
            " -1.20443061  0.06104145  0.07474314  1.50695027  0.98570025  0.47244131\n",
            "  1.98618062  0.29747599 -0.16795591 -0.03601964  0.72221731  0.68919452\n",
            " -1.12728459 -0.10059734 -1.15638449 -1.3280661   0.32250093 -0.44745239\n",
            " -0.20355148 -0.17136847  1.24621054 -0.23311222 -0.29641681 -0.73229638\n",
            "  0.80294396  0.1019594   0.6754916   0.74120886  1.08405867  1.08856151\n",
            " -1.11232185 -0.49953864  0.21692758  0.6666884   0.38589218  1.49266578\n",
            "  0.58262172  0.49384278 -0.16009423  1.75384977  0.2057247   1.00831061\n",
            " -0.53572855 -0.72703161 -0.29321515 -0.04405635 -0.46532493  0.69612546\n",
            " -0.80577192  0.5413638  -0.24169192  0.21216184 -0.11894134 -1.0369787\n",
            " -2.00739818 -2.72626782  0.85451982  0.99781969  0.25760609 -0.78189053\n",
            " -0.22108921  0.54292311 -0.08654281  0.53609254  0.0949903  -0.95513135\n",
            " -1.5247419   1.30476784  0.79790015 -1.24987544]\n"
          ]
        },
        {
          "output_type": "execute_result",
          "data": {
            "text/plain": [
              "(array([ 1.,  1.,  4., 10., 13., 21., 22., 17.,  8.,  3.]),\n",
              " array([-2.72626782, -2.25502298, -1.78377813, -1.31253329, -0.84128845,\n",
              "        -0.3700436 ,  0.10120124,  0.57244609,  1.04369093,  1.51493577,\n",
              "         1.98618062]),\n",
              " <a list of 10 Patch objects>)"
            ]
          },
          "metadata": {},
          "execution_count": 21
        },
        {
          "output_type": "display_data",
          "data": {
            "text/plain": [
              "<Figure size 432x288 with 1 Axes>"
            ],
            "image/png": "[encoded data removed]"
          },
          "metadata": {
            "needs_background": "light"
          }
        }
      ]
    },
    {
      "cell_type": "markdown",
      "source": [
        "### sine curve 만들기"
      ],
      "metadata": {
        "id": "V4SakSDqD4oe"
      }
    },
    {
      "cell_type": "code",
      "source": [
        "plt.figure() # 그래프를 그리기 위한 바탕을 만들어주는 역할\n",
        "\n",
        "theta1 = np.linspace(0, 2*np.pi, 100) # 0이상 2*np.pi미만의 실수를 같은 간격으로 나누어 100개의 원소를 가지는 행렬로 만듬\n",
        "s1 = np.sin(theta1) # 100개의 수를 np.sin()을 통해 sine변환시킴\n",
        "theta2 = np.linspace(0, 2*np.pi, 100) + np.pi/2 # theta1에 np.pi/2를 더한 행렬\n",
        "s2 = np.sin(theta2)\n",
        "\n",
        "plt.subplot(2, 1, 1) # (rows, columns, panel number)\n",
        "# 총 몇개의 그래프를 그릴 것이고 어느 위치에 그릴 것인지 지정해주는 역할 \n",
        "# 행이 2개이고 열이 1개인 그래프 바탕에서 첫번째 영역에 그릴 것이다\n",
        "plt.plot(theta1, s1, '.') # 그래프를 그려주는 함수.\n",
        "# theta1를 x축에, s1을 y축에 그리고, 뒤에 오는 인자는 어떤 형태로 그릴 것인지 지정 \n",
        "# 여기에서 '.'는 점으로 그래프를 그리는 것을 의미함\n",
        "plt.subplot(2, 1, 2) # (rows, columns, panel number)\n",
        "plt.plot(theta2, s2, '.')"
      ],
      "metadata": {
        "colab": {
          "base_uri": "https://localhost:8080/",
          "height": 283
        },
        "id": "lWnJYCw5DeL7",
        "outputId": "f6cb8547-1925-4da4-e364-dce07691f33f"
      },
      "execution_count": 23,
      "outputs": [
        {
          "output_type": "execute_result",
          "data": {
            "text/plain": [
              "[<matplotlib.lines.Line2D at 0x7f23b2ae0d90>]"
            ]
          },
          "metadata": {},
          "execution_count": 23
        },
        {
          "output_type": "display_data",
          "data": {
            "text/plain": [
              "<Figure size 432x288 with 2 Axes>"
            ],
            "image/png": "[encoded data removed]"
          },
          "metadata": {
            "needs_background": "light"
          }
        }
      ]
    },
    {
      "cell_type": "code",
      "source": [
        "np.corrcoef(s1,s2) # s1과 s2의 상관계수를 알려주는 함수"
      ],
      "metadata": {
        "colab": {
          "base_uri": "https://localhost:8080/"
        },
        "id": "Xk00fDCSFh3f",
        "outputId": "31e7262f-083f-4bb5-8714-de83c77c9285"
      },
      "execution_count": 24,
      "outputs": [
        {
          "output_type": "execute_result",
          "data": {
            "text/plain": [
              "array([[1.00000000e+00, 2.41915449e-17],\n",
              "       [2.41915449e-17, 1.00000000e+00]])"
            ]
          },
          "metadata": {},
          "execution_count": 24
        }
      ]
    }
  ]
}