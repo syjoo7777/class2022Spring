{
  "nbformat": 4,
  "nbformat_minor": 0,
  "metadata": {
    "colab": {
      "name": "20220316.ipynb",
      "provenance": [],
      "collapsed_sections": [],
      "authorship_tag": "ABX9TyPozfxSMwBMQqHSR7G0PDq+",
      "include_colab_link": true
    },
    "kernelspec": {
      "name": "python3",
      "display_name": "Python 3"
    },
    "language_info": {
      "name": "python"
    }
  },
  "cells": [
    {
      "cell_type": "markdown",
      "metadata": {
        "id": "view-in-github",
        "colab_type": "text"
      },
      "source": [
        "<a href=\"https://colab.research.google.com/github/syjoo7777/class2022Spring/blob/main/20220316.ipynb\" target=\"_parent\"><img src=\"https://colab.research.google.com/assets/colab-badge.svg\" alt=\"Open In Colab\"/></a>"
      ]
    },
    {
      "cell_type": "markdown",
      "source": [
        "## variables (int, float, str, list, tuple, dict)"
      ],
      "metadata": {
        "id": "wyR4n1NatbFt"
      }
    },
    {
      "cell_type": "code",
      "execution_count": 4,
      "metadata": {
        "colab": {
          "base_uri": "https://localhost:8080/"
        },
        "id": "mpP1RY_DqnRN",
        "outputId": "debea3a7-443b-4322-998e-b644da82e9ad"
      },
      "outputs": [
        {
          "output_type": "stream",
          "name": "stdout",
          "text": [
            "<class 'int'>\n"
          ]
        }
      ],
      "source": [
        "a = 1; print(type(a)) # int는 정수형태 "
      ]
    },
    {
      "cell_type": "code",
      "source": [
        "a = 1.1; print(type(a))  # float는 실수형태\n",
        "b = 1.0; print(type(b))  # 1.0으로 했을때는, float로 표시됨"
      ],
      "metadata": {
        "colab": {
          "base_uri": "https://localhost:8080/"
        },
        "id": "A7zMmNEnuw-G",
        "outputId": "79653ba3-d610-41dc-f564-2d7b18050630"
      },
      "execution_count": 5,
      "outputs": [
        {
          "output_type": "stream",
          "name": "stdout",
          "text": [
            "<class 'float'>\n",
            "<class 'float'>\n"
          ]
        }
      ]
    },
    {
      "cell_type": "code",
      "source": [
        "a = '123'; print(type(a)); print(a[1]) \n",
        "b = 'hello'; print(type(b)); print(b[1])\n",
        "\n",
        "# 따옴표를 붙여서 str, 문자열을 만들 수 있음. 여기서, str의 indexing은 대괄호 []를 이용"
      ],
      "metadata": {
        "colab": {
          "base_uri": "https://localhost:8080/"
        },
        "id": "tUY6RLvZuxAR",
        "outputId": "d65afb02-f535-43b2-9b83-b83b7dec1678"
      },
      "execution_count": 7,
      "outputs": [
        {
          "output_type": "stream",
          "name": "stdout",
          "text": [
            "<class 'str'>\n",
            "2\n",
            "<class 'str'>\n",
            "e\n"
          ]
        }
      ]
    },
    {
      "cell_type": "code",
      "source": [
        "a = [1, 2, 3, 4]; print(type(a)); print(a[0])\n",
        "\n",
        "# []안에 원소들을 콤마,를 이용해 나열해 list를 만들 수 있음 "
      ],
      "metadata": {
        "colab": {
          "base_uri": "https://localhost:8080/"
        },
        "id": "QJtoE_cMuxCy",
        "outputId": "61e9e6ab-8190-4961-9529-307eabd3a5ae"
      },
      "execution_count": 8,
      "outputs": [
        {
          "output_type": "stream",
          "name": "stdout",
          "text": [
            "<class 'list'>\n",
            "1\n"
          ]
        }
      ]
    },
    {
      "cell_type": "code",
      "source": [
        "a = [1,'a', [3, '4']]; print(type(a)); print(a[0]); print(a[1]); print(a[2]); print(a[2][1])\n",
        "\n",
        "# list안의 원소로 int, float, str, 또 다른 list 등등이 들어올 수 있음 \n",
        "# list안의 list의 원소를 indexing하고 싶을 때는 []뒤에 또 다른 []를 붙여 할 수 잇음 "
      ],
      "metadata": {
        "colab": {
          "base_uri": "https://localhost:8080/"
        },
        "id": "-Qw-JxPDuxE8",
        "outputId": "01793d85-1145-4b6f-ff29-b5dd35555650"
      },
      "execution_count": 9,
      "outputs": [
        {
          "output_type": "stream",
          "name": "stdout",
          "text": [
            "<class 'list'>\n",
            "1\n",
            "a\n",
            "[3, '4']\n",
            "4\n"
          ]
        }
      ]
    },
    {
      "cell_type": "code",
      "source": [
        "a =\t{\"a\": \"apple\", \"b\": \"orange\", \"c\": 2014}\n",
        "print(type(a))\n",
        "print(a[\"a\"])\n",
        "\n",
        "# dict는 {}를 이용해 만들며, :를 이용해 key와 value를 대응시킴\n",
        "# indexing을 할 때는, [key]의 값을 통해 그에 맞는 value를 찾을 수 있음"
      ],
      "metadata": {
        "id": "p_AmgeU9wSZe"
      },
      "execution_count": null,
      "outputs": []
    },
    {
      "cell_type": "markdown",
      "source": [
        "## string & list"
      ],
      "metadata": {
        "id": "pXn_NNYCxmlJ"
      }
    },
    {
      "cell_type": "code",
      "source": [
        "s = 'abcdef'\n",
        "print(s[0], s[5], s[-1], s[-6]) # indexing에서 -n을 붙이면 뒤에서 n번째 자리에 있는 문자를 출력\n",
        "print(s[1:3], s[1:], s[:3], s[:]) \n",
        "# [x:y]를 사용하면 x 이상 y 미만의 자리수에 있는 모든 문자를 출력 \n",
        "# s[1:]는 두번째 자릿수부터 끝까지, s[:3]는 처음부터 4번째 자릿수 미만까지, s[:]는 모든 자리수에 있는 문자열을 출력\n"
      ],
      "metadata": {
        "colab": {
          "base_uri": "https://localhost:8080/"
        },
        "id": "jfzLRJP2xvHK",
        "outputId": "f93db423-82b4-46cf-8b00-697321035f5d"
      },
      "execution_count": 15,
      "outputs": [
        {
          "output_type": "stream",
          "name": "stdout",
          "text": [
            "a f f a\n",
            "bc bcdef abc abcdef\n"
          ]
        }
      ]
    },
    {
      "cell_type": "code",
      "source": [
        "n = [100, 200, 300]\n",
        "print(n[0], n[2], n[-1], n[-3])\n",
        "print(n[1:2], n[1:], n[:2], n[:])\n",
        "\n",
        "# list에서는 :를 이용하면 하나의 원소를 출력하더라도 list의 형태로 출력됨"
      ],
      "metadata": {
        "colab": {
          "base_uri": "https://localhost:8080/"
        },
        "id": "7maXD2AnxvKO",
        "outputId": "79fd18f3-c180-4246-ad45-305d2effcda8"
      },
      "execution_count": 11,
      "outputs": [
        {
          "output_type": "stream",
          "name": "stdout",
          "text": [
            "100 300 300 100\n",
            "[200] [200, 300] [100, 200] [100, 200, 300]\n"
          ]
        }
      ]
    },
    {
      "cell_type": "code",
      "source": [
        "len(s) # len함수는 str일 때는 문자열의 문자 개수를, list일 때는 원소의 개수를 출력"
      ],
      "metadata": {
        "colab": {
          "base_uri": "https://localhost:8080/"
        },
        "id": "dMCXH7PyxvLu",
        "outputId": "6254cc23-51b6-4e19-aba4-3d4932d908e5"
      },
      "execution_count": 12,
      "outputs": [
        {
          "output_type": "execute_result",
          "data": {
            "text/plain": [
              "6"
            ]
          },
          "metadata": {},
          "execution_count": 12
        }
      ]
    },
    {
      "cell_type": "code",
      "source": [
        "s.upper() # .upper()는 앞에 오는 문자열을 모두 대문자화"
      ],
      "metadata": {
        "colab": {
          "base_uri": "https://localhost:8080/",
          "height": 35
        },
        "id": "XCQViTbKxvOF",
        "outputId": "9ae24249-84c5-43d3-be93-66f9365445e0"
      },
      "execution_count": 16,
      "outputs": [
        {
          "output_type": "execute_result",
          "data": {
            "text/plain": [
              "'ABCDEF'"
            ],
            "application/vnd.google.colaboratory.intrinsic+json": {
              "type": "string"
            }
          },
          "metadata": {},
          "execution_count": 16
        }
      ]
    },
    {
      "cell_type": "code",
      "source": [
        "s = ' this is a house built this year.\\n' \t\n",
        "\n",
        "result = s.find('house') \t    # index of first instance of string t inside s (-1 if not found)\n",
        "result"
      ],
      "metadata": {
        "colab": {
          "base_uri": "https://localhost:8080/"
        },
        "id": "whS3eIPKxvRQ",
        "outputId": "61217536-fcc6-469c-e488-44aca8a0512c"
      },
      "execution_count": 17,
      "outputs": [
        {
          "output_type": "execute_result",
          "data": {
            "text/plain": [
              "11"
            ]
          },
          "metadata": {},
          "execution_count": 17
        }
      ]
    },
    {
      "cell_type": "code",
      "source": [
        "s = s.strip()      \t          # a copy of s without leading or trailing whitespace\n",
        "s\n",
        "\n",
        "#.strip()은 앞에 오는 문자열의 whitespace를 지워주는 역할 "
      ],
      "metadata": {
        "colab": {
          "base_uri": "https://localhost:8080/",
          "height": 35
        },
        "id": "0iHckUtcz1Gn",
        "outputId": "ea08f5bb-f51c-4480-9886-b2f73ce5809d"
      },
      "execution_count": 18,
      "outputs": [
        {
          "output_type": "execute_result",
          "data": {
            "text/plain": [
              "'this is a house built this year.'"
            ],
            "application/vnd.google.colaboratory.intrinsic+json": {
              "type": "string"
            }
          },
          "metadata": {},
          "execution_count": 18
        }
      ]
    },
    {
      "cell_type": "code",
      "source": [
        "tokens = s.split(' ')\t        # split s into a list wherever a t is found (whitespace by default)\n",
        "tokens\n",
        "\n",
        "# .split(' ')는 앞에 오는 문자열의 공백을 기준으로 문자열을 나누어주는 역할. 결과는 list형태로 출력"
      ],
      "metadata": {
        "colab": {
          "base_uri": "https://localhost:8080/"
        },
        "id": "1CXBkwAi0Mjp",
        "outputId": "78f14322-5f11-453f-a3c7-1a6724e2bd9c"
      },
      "execution_count": 19,
      "outputs": [
        {
          "output_type": "execute_result",
          "data": {
            "text/plain": [
              "['this', 'is', 'a', 'house', 'built', 'this', 'year.']"
            ]
          },
          "metadata": {},
          "execution_count": 19
        }
      ]
    },
    {
      "cell_type": "code",
      "source": [
        "s = ' '.join(tokens)\t        # combine the words of the text into a string using s as the glue\n",
        "s\n",
        "\n",
        "# .join()는 앞의 문자열을 넣어 괄호 안의 list 원소들을 합쳐주는 역할 "
      ],
      "metadata": {
        "colab": {
          "base_uri": "https://localhost:8080/",
          "height": 35
        },
        "id": "TwSpeGAy0ej7",
        "outputId": "4fecd6a2-c83f-4089-b85f-0474390c5a01"
      },
      "execution_count": 20,
      "outputs": [
        {
          "output_type": "execute_result",
          "data": {
            "text/plain": [
              "'this is a house built this year.'"
            ],
            "application/vnd.google.colaboratory.intrinsic+json": {
              "type": "string"
            }
          },
          "metadata": {},
          "execution_count": 20
        }
      ]
    },
    {
      "cell_type": "code",
      "source": [
        "s = s.replace('this', 'that') # replace instances of t with u inside s\n",
        "s\n",
        "\n",
        "# .replace(a,b)는 앞에 오는 문자열의 a에 해당되는 부분을 b로 바꾸어줌"
      ],
      "metadata": {
        "colab": {
          "base_uri": "https://localhost:8080/",
          "height": 35
        },
        "id": "U1_-WJZq0vfU",
        "outputId": "dbaf4e01-b78d-4ed7-d571-efb58f3df641"
      },
      "execution_count": 21,
      "outputs": [
        {
          "output_type": "execute_result",
          "data": {
            "text/plain": [
              "'that is a house built that year.'"
            ],
            "application/vnd.google.colaboratory.intrinsic+json": {
              "type": "string"
            }
          },
          "metadata": {},
          "execution_count": 21
        }
      ]
    },
    {
      "cell_type": "markdown",
      "source": [
        "## syntax (for, if) ##"
      ],
      "metadata": {
        "id": "GJs029b3t5yo"
      }
    },
    {
      "cell_type": "code",
      "source": [
        ""
      ],
      "metadata": {
        "id": "ARFtFTZUxbMl"
      },
      "execution_count": null,
      "outputs": []
    },
    {
      "cell_type": "code",
      "source": [
        ""
      ],
      "metadata": {
        "id": "w0GMBjjcxbU5"
      },
      "execution_count": null,
      "outputs": []
    },
    {
      "cell_type": "code",
      "source": [
        ""
      ],
      "metadata": {
        "id": "f53up8WrxbXR"
      },
      "execution_count": null,
      "outputs": []
    },
    {
      "cell_type": "code",
      "source": [
        ""
      ],
      "metadata": {
        "id": "epnDVrFIxbZT"
      },
      "execution_count": null,
      "outputs": []
    },
    {
      "cell_type": "code",
      "source": [
        ""
      ],
      "metadata": {
        "id": "QsRYrCVyxbc0"
      },
      "execution_count": null,
      "outputs": []
    },
    {
      "cell_type": "code",
      "source": [
        ""
      ],
      "metadata": {
        "id": "oHcyT8gtxbnx"
      },
      "execution_count": null,
      "outputs": []
    },
    {
      "cell_type": "code",
      "source": [
        ""
      ],
      "metadata": {
        "id": "zcq1-C5Sxbp4"
      },
      "execution_count": null,
      "outputs": []
    },
    {
      "cell_type": "code",
      "source": [
        ""
      ],
      "metadata": {
        "id": "N5hBlPDAxbtR"
      },
      "execution_count": null,
      "outputs": []
    },
    {
      "cell_type": "markdown",
      "source": [
        "## function "
      ],
      "metadata": {
        "id": "ibWTD8z_uI-p"
      }
    },
    {
      "cell_type": "markdown",
      "source": [
        "## import, packages"
      ],
      "metadata": {
        "id": "l4Y7KtenuK6F"
      }
    },
    {
      "cell_type": "markdown",
      "source": [
        "## numpy, **matplotlib**"
      ],
      "metadata": {
        "id": "26V3WbahuZEW"
      }
    },
    {
      "cell_type": "code",
      "source": [
        ""
      ],
      "metadata": {
        "id": "R4L4hW9FtawI"
      },
      "execution_count": null,
      "outputs": []
    },
    {
      "cell_type": "code",
      "source": [
        ""
      ],
      "metadata": {
        "id": "B5_KbXQcrK95"
      },
      "execution_count": null,
      "outputs": []
    }
  ]
}